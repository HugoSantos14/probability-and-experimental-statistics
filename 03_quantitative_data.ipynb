{
 "cells": [
  {
   "cell_type": "code",
   "execution_count": 8,
   "id": "07a5830d",
   "metadata": {},
   "outputs": [],
   "source": [
    "import numpy as np\n",
    "import pandas as pd\n",
    "import matplotlib.pyplot as plt"
   ]
  },
  {
   "cell_type": "code",
   "execution_count": 9,
   "id": "6e938bff",
   "metadata": {},
   "outputs": [],
   "source": [
    "notas = pd.Series([7.5, 8.0, 6.3, 9.2, 5.5, 8.7, 7.8, 6.0, 9.5, 7.0])"
   ]
  },
  {
   "cell_type": "code",
   "execution_count": 13,
   "id": "43a10847",
   "metadata": {},
   "outputs": [
    {
     "name": "stdout",
     "output_type": "stream",
     "text": [
      "Média: 7.55\n",
      "Mediana: 7.65\n",
      "Desvio padrão: 1.36\n",
      "Mínimo: 5.5\n",
      "Máximo: 9.5\n"
     ]
    }
   ],
   "source": [
    "print(f\"Média: {notas.mean()}\")\n",
    "print(f\"Mediana: {notas.median()}\")\n",
    "print(f\"Desvio padrão: {notas.std():.2f}\")\n",
    "print(f\"Mínimo: {notas.min()}\")\n",
    "print(f\"Máximo: {notas.max()}\")"
   ]
  },
  {
   "cell_type": "code",
   "execution_count": null,
   "id": "ea557859",
   "metadata": {},
   "outputs": [],
   "source": []
  }
 ],
 "metadata": {
  "kernelspec": {
   "display_name": ".venv (3.12.5)",
   "language": "python",
   "name": "python3"
  },
  "language_info": {
   "codemirror_mode": {
    "name": "ipython",
    "version": 3
   },
   "file_extension": ".py",
   "mimetype": "text/x-python",
   "name": "python",
   "nbconvert_exporter": "python",
   "pygments_lexer": "ipython3",
   "version": "3.12.5"
  }
 },
 "nbformat": 4,
 "nbformat_minor": 5
}
